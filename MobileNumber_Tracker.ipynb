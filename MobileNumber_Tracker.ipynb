{
  "nbformat": 4,
  "nbformat_minor": 0,
  "metadata": {
    "colab": {
      "name": "MobileNumber_Tracker.ipynb",
      "provenance": [],
      "authorship_tag": "ABX9TyN9ulixEb2yRX3RxZ/vVLSi",
      "include_colab_link": true
    },
    "kernelspec": {
      "name": "python3",
      "display_name": "Python 3"
    },
    "language_info": {
      "name": "python"
    }
  },
  "cells": [
    {
      "cell_type": "markdown",
      "metadata": {
        "id": "view-in-github",
        "colab_type": "text"
      },
      "source": [
        "<a href=\"https://colab.research.google.com/github/Mahesh-vmr/MobileNumber_Tracker/blob/main/MobileNumber_Tracker.ipynb\" target=\"_parent\"><img src=\"https://colab.research.google.com/assets/colab-badge.svg\" alt=\"Open In Colab\"/></a>"
      ]
    },
    {
      "cell_type": "code",
      "metadata": {
        "id": "LSnO_71Ud5ez"
      },
      "source": [
        "pip install beautifulsoup4"
      ],
      "execution_count": null,
      "outputs": []
    },
    {
      "cell_type": "code",
      "metadata": {
        "id": "VJ0MjUMIeCtR"
      },
      "source": [
        "pip install mechanize"
      ],
      "execution_count": null,
      "outputs": []
    },
    {
      "cell_type": "code",
      "metadata": {
        "id": "PQzX4jCPemfR"
      },
      "source": [
        "from bs4 import BeautifulSoup\n",
        "import mechanize"
      ],
      "execution_count": null,
      "outputs": []
    },
    {
      "cell_type": "code",
      "metadata": {
        "id": "gy3ARvuNeU1c"
      },
      "source": [
        "mc= mechanize.Browser()\n",
        "mc.set_handle_robots(False)"
      ],
      "execution_count": null,
      "outputs": []
    },
    {
      "cell_type": "code",
      "metadata": {
        "colab": {
          "base_uri": "https://localhost:8080/"
        },
        "id": "sDm0jss8ei8Q",
        "outputId": "2ec6345a-5a80-4f8a-abea-0362ae42706a"
      },
      "source": [
        "url='https://www.findandtrace.com/trace-mobile-number-location'\n",
        "mc.open(url)"
      ],
      "execution_count": null,
      "outputs": [
        {
          "output_type": "execute_result",
          "data": {
            "text/plain": [
              "<response_seek_wrapper at 0x7ff6c2f61c50 whose wrapped object = <closeable_response at 0x7ff6c2f61650 whose fp = <_io.BufferedReader name=54>>>"
            ]
          },
          "metadata": {},
          "execution_count": 111
        }
      ]
    },
    {
      "cell_type": "code",
      "metadata": {
        "id": "hoKNT7W-fW0W"
      },
      "source": [
        "mc.select_form(name='trace')\n",
        "mc['mobilenumber'] = '8978866441' # Enter a mobile number\n",
        "res = mc.submit().read()"
      ],
      "execution_count": null,
      "outputs": []
    },
    {
      "cell_type": "code",
      "metadata": {
        "id": "2gJpak8Lfwjm"
      },
      "source": [
        "soup = BeautifulSoup(res,'html.parser')\n",
        "tbl = soup.find_all('table',class_='shop_table')\n",
        "print(tbl)"
      ],
      "execution_count": null,
      "outputs": []
    },
    {
      "cell_type": "code",
      "metadata": {
        "colab": {
          "base_uri": "https://localhost:8080/"
        },
        "id": "gnYW6ru4gJii",
        "outputId": "20a2ad57-d112-44fb-f870-8633448735b6"
      },
      "source": [
        "data = tbl[0].find('tfoot')\n",
        "c=0\n",
        "for i in data:\n",
        "    c+=1\n",
        "    if c in (1,4,6,8,10):\n",
        "        continue\n",
        "    th = i.find('th')\n",
        "    td = i.find('td')\n",
        "    \n",
        "    print(th.text,td.text)\n",
        "    "
      ],
      "execution_count": null,
      "outputs": [
        {
          "output_type": "stream",
          "name": "stdout",
          "text": [
            "Mobile Phone: 8978866441\n",
            "Telecoms Circle / State Andhra Pradesh\n",
            "Original Network: (First Alloted)  AIRTEL\n",
            "Current Network \n",
            "Service Type / Signal: GSM\n",
            "Connection Status:  LIVE - Active \n"
          ]
        }
      ]
    },
    {
      "cell_type": "code",
      "metadata": {
        "colab": {
          "base_uri": "https://localhost:8080/"
        },
        "id": "ydZvdOKPkzUz",
        "outputId": "e1fa3c14-7e7e-4c03-aefd-86788771ea89"
      },
      "source": [
        "data = tbl[1].find('tfoot')\n",
        "c=0\n",
        "for i in data:\n",
        "    c+=1\n",
        "    if c in (2,8,10,12,14,16,18,20,22,24,26,28,30,38): \n",
        "        th = i.find('th')\n",
        "        td = i.find('td')\n",
        "       \n",
        "        print(th.text,td.text)\n",
        "        "
      ],
      "execution_count": null,
      "outputs": [
        {
          "output_type": "stream",
          "name": "stdout",
          "text": [
            "+91 8978866441 - SIM card distributed at   Hyderabad, Visakhapatnam, Vijayawada, Warangal, Guntur, Nellore\n",
            "Address / Current GPS Location: No GPS Apps found \n",
            "Last Login Location (Facebook / Google Map / Twitter / Instagram )  No History\n",
            "Last Live location 9 Days\n",
            "Number of Search History: 5 times in the Past\n",
            "Latest Search Places : Andhra Pradesh, Andhra Pradesh\n",
            "Websites / social media / Job Portals /Online Portals contains this number ?  Yes ! ( 8 Places )\n",
            "Other Telecoms operators in phone area : Airtel, JIO, VODAFONE, IDEA, BSNL\n",
            "No.of district / region in the state : \n",
            "\t\t\t\t\t\t\t\t\t\t23\n",
            "Telecom Circle Capital : Hyderabad\n",
            "Main Language in the telecoms circle : Telugu\n",
            "Other Languages in the telecom circle : Urdu, Hindi, Tamil and English\n",
            "Local time at phone location : 18/09/21 17:07:14 : Hours\n"
          ]
        }
      ]
    }
  ]
}